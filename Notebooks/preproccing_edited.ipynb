{
 "cells": [
  {
   "cell_type": "code",
   "execution_count": 2,
   "id": "b3f2a156",
   "metadata": {},
   "outputs": [],
   "source": [
    "import os\n",
    "import numpy as np\n",
    "import cv2\n",
    "from tqdm import tqdm\n"
   ]
  },
  {
   "cell_type": "code",
   "execution_count": 3,
   "id": "8b534e4d",
   "metadata": {},
   "outputs": [],
   "source": [
    "EMOTIONS = ['angry', 'disgust', 'fear', 'happy', 'sad', 'surprise', 'neutral']\n",
    "\n",
    "IMG_SIZE = (48, 48)\n",
    "\n",
    "TRAIN_DIR = r\"C:\\Users\\moham\\Documents\\GitHub\\Emoji-Detection-System\\FER-2013\\train\"\n",
    "TEST_DIR = r\"C:\\Users\\moham\\Documents\\GitHub\\Emoji-Detection-System\\FER-2013\\test\"\n"
   ]
  },
  {
   "cell_type": "code",
   "execution_count": 4,
   "id": "9414776b",
   "metadata": {},
   "outputs": [],
   "source": [
    "def load_images_from_folder(folder_path, label_index):\n",
    "    images, labels = [], []\n",
    "    for file_name in os.listdir(folder_path):\n",
    "        img_path = os.path.join(folder_path, file_name)\n",
    "        \n",
    "        img = cv2.imread(img_path, cv2.IMREAD_GRAYSCALE)\n",
    "        \n",
    "        if img is not None:\n",
    "            img = cv2.resize(img, IMG_SIZE).astype(\"float32\") / 255.0\n",
    "            images.append(img)\n",
    "            labels.append(label_index)\n",
    "    \n",
    "    return images, labels\n"
   ]
  },
  {
   "cell_type": "code",
   "execution_count": 5,
   "id": "c5adbe8e",
   "metadata": {},
   "outputs": [
    {
     "name": "stdout",
     "output_type": "stream",
     "text": [
      "Training data saved as X_preprocessed.npy and y_preprocessed.npy\n"
     ]
    }
   ],
   "source": [
    "X_train, y_train = [], []\n",
    "\n",
    "for idx, emo in enumerate(EMOTIONS):\n",
    "    folder = os.path.join(TRAIN_DIR, emo)\n",
    "    imgs, labels = load_images_from_folder(folder, idx)\n",
    "    X_train.extend(imgs)\n",
    "    y_train.extend(labels)\n",
    "\n",
    "X_train = np.expand_dims(np.array(X_train), -1)  \n",
    "y_train = np.array(y_train)\n",
    "\n",
    "np.save(\"X_preprocessed.npy\", X_train)\n",
    "np.save(\"y_preprocessed.npy\", y_train)\n",
    "\n",
    "print(\"Training data saved as X_preprocessed.npy and y_preprocessed.npy\")\n"
   ]
  },
  {
   "cell_type": "code",
   "execution_count": 7,
   "id": "d466bd1b",
   "metadata": {},
   "outputs": [
    {
     "name": "stdout",
     "output_type": "stream",
     "text": [
      "Test data saved as X_test.npy and y_test.npy\n"
     ]
    }
   ],
   "source": [
    "X_test, y_test = [], []\n",
    "\n",
    "for idx, emo in enumerate(EMOTIONS):\n",
    "    folder = os.path.join(TEST_DIR, emo)\n",
    "    imgs, labels = load_images_from_folder(folder, idx)\n",
    "    X_test.extend(imgs)\n",
    "    y_test.extend(labels)\n",
    "\n",
    "X_test = np.expand_dims(np.array(X_test), -1)  \n",
    "y_test = np.array(y_test)\n",
    "\n",
    "np.save(\"X_test.npy\", X_test)\n",
    "np.save(\"y_test.npy\", y_test)\n",
    "\n",
    "print(\"Test data saved as X_test.npy and y_test.npy\")\n"
   ]
  },
  {
   "cell_type": "code",
   "execution_count": null,
   "id": "54f8c957",
   "metadata": {},
   "outputs": [],
   "source": []
  }
 ],
 "metadata": {
  "kernelspec": {
   "display_name": "venv",
   "language": "python",
   "name": "python3"
  },
  "language_info": {
   "codemirror_mode": {
    "name": "ipython",
    "version": 3
   },
   "file_extension": ".py",
   "mimetype": "text/x-python",
   "name": "python",
   "nbconvert_exporter": "python",
   "pygments_lexer": "ipython3",
   "version": "3.11.3"
  }
 },
 "nbformat": 4,
 "nbformat_minor": 5
}
