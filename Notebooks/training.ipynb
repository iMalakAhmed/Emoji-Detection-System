{
 "cells": [
  {
   "cell_type": "code",
   "execution_count": 19,
   "id": "b44d73fa",
   "metadata": {},
   "outputs": [],
   "source": [
    "import numpy as np\n",
    "import matplotlib.pyplot as plt\n",
    "from tensorflow.keras.models import Sequential\n",
    "from tensorflow.keras.layers import Dense, Conv2D, Flatten, MaxPooling2D, Dropout\n",
    "from tensorflow.keras.utils import to_categorical\n",
    "from tensorflow.keras.optimizers import Adam\n",
    "from tensorflow.keras.callbacks import ReduceLROnPlateau\n",
    "from tensorflow.keras.preprocessing.image import ImageDataGenerator\n"
   ]
  },
  {
   "cell_type": "code",
   "execution_count": 20,
   "id": "a491162e",
   "metadata": {},
   "outputs": [
    {
     "name": "stdout",
     "output_type": "stream",
     "text": [
      "Training data shape: (27473, 48, 48, 1)\n",
      "Training labels shape: (27473, 7)\n",
      "Testing data shape: (7178, 48, 48, 1)\n",
      "Testing labels shape: (7178, 7)\n"
     ]
    }
   ],
   "source": [
    "X_train = np.load(\"X_preprocessed.npy\")\n",
    "y_train = np.load(\"y_preprocessed.npy\")\n",
    "X_test = np.load(\"X_test.npy\")\n",
    "y_test = np.load(\"y_test.npy\")\n",
    "\n",
    "Y_train = to_categorical(y_train, num_classes=7)\n",
    "Y_test = to_categorical(y_test, num_classes=7)\n",
    "\n",
    "print(\"Training data shape:\", X_train.shape)\n",
    "print(\"Training labels shape:\", Y_train.shape)\n",
    "print(\"Testing data shape:\", X_test.shape)\n",
    "print(\"Testing labels shape:\", Y_test.shape)\n"
   ]
  },
  {
   "cell_type": "code",
   "execution_count": 21,
   "id": "f9eed6b2",
   "metadata": {},
   "outputs": [],
   "source": [
    "lr_reduce = ReduceLROnPlateau(monitor='val_acc', factor=0.1, patience=1, verbose=1)\n"
   ]
  },
  {
   "cell_type": "code",
   "execution_count": 22,
   "id": "064e6d65",
   "metadata": {},
   "outputs": [],
   "source": [
    "datagen = ImageDataGenerator(\n",
    "    featurewise_center=False,\n",
    "    samplewise_center=False,\n",
    "    featurewise_std_normalization=False,\n",
    "    samplewise_std_normalization=False,\n",
    "    zca_whitening=False,\n",
    "    rotation_range=10,\n",
    "    zoom_range=0.0,\n",
    "    width_shift_range=0.1,\n",
    "    height_shift_range=0.1,\n",
    "    horizontal_flip=False,\n",
    "    vertical_flip=False\n",
    ")\n",
    "\n",
    "datagen.fit(X_train)\n"
   ]
  },
  {
   "cell_type": "code",
   "execution_count": 24,
   "id": "08c0189e",
   "metadata": {},
   "outputs": [
    {
     "data": {
      "text/html": [
       "<pre style=\"white-space:pre;overflow-x:auto;line-height:normal;font-family:Menlo,'DejaVu Sans Mono',consolas,'Courier New',monospace\"><span style=\"font-weight: bold\">Model: \"sequential_4\"</span>\n",
       "</pre>\n"
      ],
      "text/plain": [
       "\u001b[1mModel: \"sequential_4\"\u001b[0m\n"
      ]
     },
     "metadata": {},
     "output_type": "display_data"
    },
    {
     "data": {
      "text/html": [
       "<pre style=\"white-space:pre;overflow-x:auto;line-height:normal;font-family:Menlo,'DejaVu Sans Mono',consolas,'Courier New',monospace\">┏━━━━━━━━━━━━━━━━━━━━━━━━━━━━━━━━━┳━━━━━━━━━━━━━━━━━━━━━━━━┳━━━━━━━━━━━━━━━┓\n",
       "┃<span style=\"font-weight: bold\"> Layer (type)                    </span>┃<span style=\"font-weight: bold\"> Output Shape           </span>┃<span style=\"font-weight: bold\">       Param # </span>┃\n",
       "┡━━━━━━━━━━━━━━━━━━━━━━━━━━━━━━━━━╇━━━━━━━━━━━━━━━━━━━━━━━━╇━━━━━━━━━━━━━━━┩\n",
       "│ conv2d_15 (<span style=\"color: #0087ff; text-decoration-color: #0087ff\">Conv2D</span>)              │ (<span style=\"color: #00d7ff; text-decoration-color: #00d7ff\">None</span>, <span style=\"color: #00af00; text-decoration-color: #00af00\">46</span>, <span style=\"color: #00af00; text-decoration-color: #00af00\">46</span>, <span style=\"color: #00af00; text-decoration-color: #00af00\">64</span>)     │           <span style=\"color: #00af00; text-decoration-color: #00af00\">640</span> │\n",
       "├─────────────────────────────────┼────────────────────────┼───────────────┤\n",
       "│ conv2d_16 (<span style=\"color: #0087ff; text-decoration-color: #0087ff\">Conv2D</span>)              │ (<span style=\"color: #00d7ff; text-decoration-color: #00d7ff\">None</span>, <span style=\"color: #00af00; text-decoration-color: #00af00\">44</span>, <span style=\"color: #00af00; text-decoration-color: #00af00\">44</span>, <span style=\"color: #00af00; text-decoration-color: #00af00\">64</span>)     │        <span style=\"color: #00af00; text-decoration-color: #00af00\">36,928</span> │\n",
       "├─────────────────────────────────┼────────────────────────┼───────────────┤\n",
       "│ max_pooling2d_12 (<span style=\"color: #0087ff; text-decoration-color: #0087ff\">MaxPooling2D</span>) │ (<span style=\"color: #00d7ff; text-decoration-color: #00d7ff\">None</span>, <span style=\"color: #00af00; text-decoration-color: #00af00\">22</span>, <span style=\"color: #00af00; text-decoration-color: #00af00\">22</span>, <span style=\"color: #00af00; text-decoration-color: #00af00\">64</span>)     │             <span style=\"color: #00af00; text-decoration-color: #00af00\">0</span> │\n",
       "├─────────────────────────────────┼────────────────────────┼───────────────┤\n",
       "│ dropout_13 (<span style=\"color: #0087ff; text-decoration-color: #0087ff\">Dropout</span>)            │ (<span style=\"color: #00d7ff; text-decoration-color: #00d7ff\">None</span>, <span style=\"color: #00af00; text-decoration-color: #00af00\">22</span>, <span style=\"color: #00af00; text-decoration-color: #00af00\">22</span>, <span style=\"color: #00af00; text-decoration-color: #00af00\">64</span>)     │             <span style=\"color: #00af00; text-decoration-color: #00af00\">0</span> │\n",
       "├─────────────────────────────────┼────────────────────────┼───────────────┤\n",
       "│ conv2d_17 (<span style=\"color: #0087ff; text-decoration-color: #0087ff\">Conv2D</span>)              │ (<span style=\"color: #00d7ff; text-decoration-color: #00d7ff\">None</span>, <span style=\"color: #00af00; text-decoration-color: #00af00\">20</span>, <span style=\"color: #00af00; text-decoration-color: #00af00\">20</span>, <span style=\"color: #00af00; text-decoration-color: #00af00\">128</span>)    │        <span style=\"color: #00af00; text-decoration-color: #00af00\">73,856</span> │\n",
       "├─────────────────────────────────┼────────────────────────┼───────────────┤\n",
       "│ max_pooling2d_13 (<span style=\"color: #0087ff; text-decoration-color: #0087ff\">MaxPooling2D</span>) │ (<span style=\"color: #00d7ff; text-decoration-color: #00d7ff\">None</span>, <span style=\"color: #00af00; text-decoration-color: #00af00\">10</span>, <span style=\"color: #00af00; text-decoration-color: #00af00\">10</span>, <span style=\"color: #00af00; text-decoration-color: #00af00\">128</span>)    │             <span style=\"color: #00af00; text-decoration-color: #00af00\">0</span> │\n",
       "├─────────────────────────────────┼────────────────────────┼───────────────┤\n",
       "│ conv2d_18 (<span style=\"color: #0087ff; text-decoration-color: #0087ff\">Conv2D</span>)              │ (<span style=\"color: #00d7ff; text-decoration-color: #00d7ff\">None</span>, <span style=\"color: #00af00; text-decoration-color: #00af00\">8</span>, <span style=\"color: #00af00; text-decoration-color: #00af00\">8</span>, <span style=\"color: #00af00; text-decoration-color: #00af00\">128</span>)      │       <span style=\"color: #00af00; text-decoration-color: #00af00\">147,584</span> │\n",
       "├─────────────────────────────────┼────────────────────────┼───────────────┤\n",
       "│ max_pooling2d_14 (<span style=\"color: #0087ff; text-decoration-color: #0087ff\">MaxPooling2D</span>) │ (<span style=\"color: #00d7ff; text-decoration-color: #00d7ff\">None</span>, <span style=\"color: #00af00; text-decoration-color: #00af00\">4</span>, <span style=\"color: #00af00; text-decoration-color: #00af00\">4</span>, <span style=\"color: #00af00; text-decoration-color: #00af00\">128</span>)      │             <span style=\"color: #00af00; text-decoration-color: #00af00\">0</span> │\n",
       "├─────────────────────────────────┼────────────────────────┼───────────────┤\n",
       "│ dropout_14 (<span style=\"color: #0087ff; text-decoration-color: #0087ff\">Dropout</span>)            │ (<span style=\"color: #00d7ff; text-decoration-color: #00d7ff\">None</span>, <span style=\"color: #00af00; text-decoration-color: #00af00\">4</span>, <span style=\"color: #00af00; text-decoration-color: #00af00\">4</span>, <span style=\"color: #00af00; text-decoration-color: #00af00\">128</span>)      │             <span style=\"color: #00af00; text-decoration-color: #00af00\">0</span> │\n",
       "├─────────────────────────────────┼────────────────────────┼───────────────┤\n",
       "│ flatten_4 (<span style=\"color: #0087ff; text-decoration-color: #0087ff\">Flatten</span>)             │ (<span style=\"color: #00d7ff; text-decoration-color: #00d7ff\">None</span>, <span style=\"color: #00af00; text-decoration-color: #00af00\">2048</span>)           │             <span style=\"color: #00af00; text-decoration-color: #00af00\">0</span> │\n",
       "├─────────────────────────────────┼────────────────────────┼───────────────┤\n",
       "│ dense_11 (<span style=\"color: #0087ff; text-decoration-color: #0087ff\">Dense</span>)                │ (<span style=\"color: #00d7ff; text-decoration-color: #00d7ff\">None</span>, <span style=\"color: #00af00; text-decoration-color: #00af00\">512</span>)            │     <span style=\"color: #00af00; text-decoration-color: #00af00\">1,049,088</span> │\n",
       "├─────────────────────────────────┼────────────────────────┼───────────────┤\n",
       "│ dropout_15 (<span style=\"color: #0087ff; text-decoration-color: #0087ff\">Dropout</span>)            │ (<span style=\"color: #00d7ff; text-decoration-color: #00d7ff\">None</span>, <span style=\"color: #00af00; text-decoration-color: #00af00\">512</span>)            │             <span style=\"color: #00af00; text-decoration-color: #00af00\">0</span> │\n",
       "├─────────────────────────────────┼────────────────────────┼───────────────┤\n",
       "│ dense_12 (<span style=\"color: #0087ff; text-decoration-color: #0087ff\">Dense</span>)                │ (<span style=\"color: #00d7ff; text-decoration-color: #00d7ff\">None</span>, <span style=\"color: #00af00; text-decoration-color: #00af00\">256</span>)            │       <span style=\"color: #00af00; text-decoration-color: #00af00\">131,328</span> │\n",
       "├─────────────────────────────────┼────────────────────────┼───────────────┤\n",
       "│ dropout_16 (<span style=\"color: #0087ff; text-decoration-color: #0087ff\">Dropout</span>)            │ (<span style=\"color: #00d7ff; text-decoration-color: #00d7ff\">None</span>, <span style=\"color: #00af00; text-decoration-color: #00af00\">256</span>)            │             <span style=\"color: #00af00; text-decoration-color: #00af00\">0</span> │\n",
       "├─────────────────────────────────┼────────────────────────┼───────────────┤\n",
       "│ dense_13 (<span style=\"color: #0087ff; text-decoration-color: #0087ff\">Dense</span>)                │ (<span style=\"color: #00d7ff; text-decoration-color: #00d7ff\">None</span>, <span style=\"color: #00af00; text-decoration-color: #00af00\">7</span>)              │         <span style=\"color: #00af00; text-decoration-color: #00af00\">1,799</span> │\n",
       "└─────────────────────────────────┴────────────────────────┴───────────────┘\n",
       "</pre>\n"
      ],
      "text/plain": [
       "┏━━━━━━━━━━━━━━━━━━━━━━━━━━━━━━━━━┳━━━━━━━━━━━━━━━━━━━━━━━━┳━━━━━━━━━━━━━━━┓\n",
       "┃\u001b[1m \u001b[0m\u001b[1mLayer (type)                   \u001b[0m\u001b[1m \u001b[0m┃\u001b[1m \u001b[0m\u001b[1mOutput Shape          \u001b[0m\u001b[1m \u001b[0m┃\u001b[1m \u001b[0m\u001b[1m      Param #\u001b[0m\u001b[1m \u001b[0m┃\n",
       "┡━━━━━━━━━━━━━━━━━━━━━━━━━━━━━━━━━╇━━━━━━━━━━━━━━━━━━━━━━━━╇━━━━━━━━━━━━━━━┩\n",
       "│ conv2d_15 (\u001b[38;5;33mConv2D\u001b[0m)              │ (\u001b[38;5;45mNone\u001b[0m, \u001b[38;5;34m46\u001b[0m, \u001b[38;5;34m46\u001b[0m, \u001b[38;5;34m64\u001b[0m)     │           \u001b[38;5;34m640\u001b[0m │\n",
       "├─────────────────────────────────┼────────────────────────┼───────────────┤\n",
       "│ conv2d_16 (\u001b[38;5;33mConv2D\u001b[0m)              │ (\u001b[38;5;45mNone\u001b[0m, \u001b[38;5;34m44\u001b[0m, \u001b[38;5;34m44\u001b[0m, \u001b[38;5;34m64\u001b[0m)     │        \u001b[38;5;34m36,928\u001b[0m │\n",
       "├─────────────────────────────────┼────────────────────────┼───────────────┤\n",
       "│ max_pooling2d_12 (\u001b[38;5;33mMaxPooling2D\u001b[0m) │ (\u001b[38;5;45mNone\u001b[0m, \u001b[38;5;34m22\u001b[0m, \u001b[38;5;34m22\u001b[0m, \u001b[38;5;34m64\u001b[0m)     │             \u001b[38;5;34m0\u001b[0m │\n",
       "├─────────────────────────────────┼────────────────────────┼───────────────┤\n",
       "│ dropout_13 (\u001b[38;5;33mDropout\u001b[0m)            │ (\u001b[38;5;45mNone\u001b[0m, \u001b[38;5;34m22\u001b[0m, \u001b[38;5;34m22\u001b[0m, \u001b[38;5;34m64\u001b[0m)     │             \u001b[38;5;34m0\u001b[0m │\n",
       "├─────────────────────────────────┼────────────────────────┼───────────────┤\n",
       "│ conv2d_17 (\u001b[38;5;33mConv2D\u001b[0m)              │ (\u001b[38;5;45mNone\u001b[0m, \u001b[38;5;34m20\u001b[0m, \u001b[38;5;34m20\u001b[0m, \u001b[38;5;34m128\u001b[0m)    │        \u001b[38;5;34m73,856\u001b[0m │\n",
       "├─────────────────────────────────┼────────────────────────┼───────────────┤\n",
       "│ max_pooling2d_13 (\u001b[38;5;33mMaxPooling2D\u001b[0m) │ (\u001b[38;5;45mNone\u001b[0m, \u001b[38;5;34m10\u001b[0m, \u001b[38;5;34m10\u001b[0m, \u001b[38;5;34m128\u001b[0m)    │             \u001b[38;5;34m0\u001b[0m │\n",
       "├─────────────────────────────────┼────────────────────────┼───────────────┤\n",
       "│ conv2d_18 (\u001b[38;5;33mConv2D\u001b[0m)              │ (\u001b[38;5;45mNone\u001b[0m, \u001b[38;5;34m8\u001b[0m, \u001b[38;5;34m8\u001b[0m, \u001b[38;5;34m128\u001b[0m)      │       \u001b[38;5;34m147,584\u001b[0m │\n",
       "├─────────────────────────────────┼────────────────────────┼───────────────┤\n",
       "│ max_pooling2d_14 (\u001b[38;5;33mMaxPooling2D\u001b[0m) │ (\u001b[38;5;45mNone\u001b[0m, \u001b[38;5;34m4\u001b[0m, \u001b[38;5;34m4\u001b[0m, \u001b[38;5;34m128\u001b[0m)      │             \u001b[38;5;34m0\u001b[0m │\n",
       "├─────────────────────────────────┼────────────────────────┼───────────────┤\n",
       "│ dropout_14 (\u001b[38;5;33mDropout\u001b[0m)            │ (\u001b[38;5;45mNone\u001b[0m, \u001b[38;5;34m4\u001b[0m, \u001b[38;5;34m4\u001b[0m, \u001b[38;5;34m128\u001b[0m)      │             \u001b[38;5;34m0\u001b[0m │\n",
       "├─────────────────────────────────┼────────────────────────┼───────────────┤\n",
       "│ flatten_4 (\u001b[38;5;33mFlatten\u001b[0m)             │ (\u001b[38;5;45mNone\u001b[0m, \u001b[38;5;34m2048\u001b[0m)           │             \u001b[38;5;34m0\u001b[0m │\n",
       "├─────────────────────────────────┼────────────────────────┼───────────────┤\n",
       "│ dense_11 (\u001b[38;5;33mDense\u001b[0m)                │ (\u001b[38;5;45mNone\u001b[0m, \u001b[38;5;34m512\u001b[0m)            │     \u001b[38;5;34m1,049,088\u001b[0m │\n",
       "├─────────────────────────────────┼────────────────────────┼───────────────┤\n",
       "│ dropout_15 (\u001b[38;5;33mDropout\u001b[0m)            │ (\u001b[38;5;45mNone\u001b[0m, \u001b[38;5;34m512\u001b[0m)            │             \u001b[38;5;34m0\u001b[0m │\n",
       "├─────────────────────────────────┼────────────────────────┼───────────────┤\n",
       "│ dense_12 (\u001b[38;5;33mDense\u001b[0m)                │ (\u001b[38;5;45mNone\u001b[0m, \u001b[38;5;34m256\u001b[0m)            │       \u001b[38;5;34m131,328\u001b[0m │\n",
       "├─────────────────────────────────┼────────────────────────┼───────────────┤\n",
       "│ dropout_16 (\u001b[38;5;33mDropout\u001b[0m)            │ (\u001b[38;5;45mNone\u001b[0m, \u001b[38;5;34m256\u001b[0m)            │             \u001b[38;5;34m0\u001b[0m │\n",
       "├─────────────────────────────────┼────────────────────────┼───────────────┤\n",
       "│ dense_13 (\u001b[38;5;33mDense\u001b[0m)                │ (\u001b[38;5;45mNone\u001b[0m, \u001b[38;5;34m7\u001b[0m)              │         \u001b[38;5;34m1,799\u001b[0m │\n",
       "└─────────────────────────────────┴────────────────────────┴───────────────┘\n"
      ]
     },
     "metadata": {},
     "output_type": "display_data"
    },
    {
     "data": {
      "text/html": [
       "<pre style=\"white-space:pre;overflow-x:auto;line-height:normal;font-family:Menlo,'DejaVu Sans Mono',consolas,'Courier New',monospace\"><span style=\"font-weight: bold\"> Total params: </span><span style=\"color: #00af00; text-decoration-color: #00af00\">1,441,223</span> (5.50 MB)\n",
       "</pre>\n"
      ],
      "text/plain": [
       "\u001b[1m Total params: \u001b[0m\u001b[38;5;34m1,441,223\u001b[0m (5.50 MB)\n"
      ]
     },
     "metadata": {},
     "output_type": "display_data"
    },
    {
     "data": {
      "text/html": [
       "<pre style=\"white-space:pre;overflow-x:auto;line-height:normal;font-family:Menlo,'DejaVu Sans Mono',consolas,'Courier New',monospace\"><span style=\"font-weight: bold\"> Trainable params: </span><span style=\"color: #00af00; text-decoration-color: #00af00\">1,441,223</span> (5.50 MB)\n",
       "</pre>\n"
      ],
      "text/plain": [
       "\u001b[1m Trainable params: \u001b[0m\u001b[38;5;34m1,441,223\u001b[0m (5.50 MB)\n"
      ]
     },
     "metadata": {},
     "output_type": "display_data"
    },
    {
     "data": {
      "text/html": [
       "<pre style=\"white-space:pre;overflow-x:auto;line-height:normal;font-family:Menlo,'DejaVu Sans Mono',consolas,'Courier New',monospace\"><span style=\"font-weight: bold\"> Non-trainable params: </span><span style=\"color: #00af00; text-decoration-color: #00af00\">0</span> (0.00 B)\n",
       "</pre>\n"
      ],
      "text/plain": [
       "\u001b[1m Non-trainable params: \u001b[0m\u001b[38;5;34m0\u001b[0m (0.00 B)\n"
      ]
     },
     "metadata": {},
     "output_type": "display_data"
    }
   ],
   "source": [
    "model = Sequential()\n",
    "\n",
    "model.add(Conv2D(64, kernel_size=(3, 3), activation='relu', input_shape=(48,48,1)))\n",
    "model.add(Conv2D(64, kernel_size=(3, 3), activation='relu'))\n",
    "model.add(MaxPooling2D(pool_size=(2, 2)))\n",
    "model.add(Dropout(0.2))\n",
    "\n",
    "model.add(Conv2D(128, kernel_size=(3, 3), activation='relu'))\n",
    "model.add(MaxPooling2D(pool_size=(2, 2)))\n",
    "model.add(Conv2D(128, kernel_size=(3, 3), activation='relu'))\n",
    "model.add(MaxPooling2D(pool_size=(2, 2)))\n",
    "model.add(Dropout(0.22))\n",
    "\n",
    "model.add(Flatten())\n",
    "model.add(Dense(512, activation='relu'))\n",
    "model.add(Dropout(0.5))\n",
    "model.add(Dense(256, activation='relu'))\n",
    "model.add(Dropout(0.5))\n",
    "model.add(Dense(7, activation='softmax'))\n",
    "\n",
    "model.compile(loss='categorical_crossentropy',\n",
    "              optimizer=Adam(learning_rate=0.001, beta_1=0.9, beta_2=0.999, epsilon=1e-7),\n",
    "              metrics=['acc'])\n",
    "\n",
    "model.summary()\n"
   ]
  },
  {
   "cell_type": "code",
   "execution_count": 25,
   "id": "03703d28",
   "metadata": {},
   "outputs": [
    {
     "name": "stdout",
     "output_type": "stream",
     "text": [
      "Epoch 1/40\n",
      "430/430 - 94s - 219ms/step - acc: 0.2545 - loss: 1.8099 - val_acc: 0.2544 - val_loss: 1.7954 - learning_rate: 1.0000e-03\n",
      "Epoch 2/40\n",
      "430/430 - 103s - 240ms/step - acc: 0.2689 - loss: 1.7661 - val_acc: 0.3277 - val_loss: 1.6878 - learning_rate: 1.0000e-03\n",
      "Epoch 3/40\n",
      "430/430 - 95s - 220ms/step - acc: 0.3187 - loss: 1.6926 - val_acc: 0.4026 - val_loss: 1.5543 - learning_rate: 1.0000e-03\n",
      "Epoch 4/40\n",
      "430/430 - 93s - 217ms/step - acc: 0.3642 - loss: 1.6100 - val_acc: 0.4252 - val_loss: 1.4825 - learning_rate: 1.0000e-03\n",
      "Epoch 5/40\n",
      "430/430 - 87s - 203ms/step - acc: 0.3931 - loss: 1.5429 - val_acc: 0.4582 - val_loss: 1.3968 - learning_rate: 1.0000e-03\n",
      "Epoch 6/40\n",
      "430/430 - 88s - 204ms/step - acc: 0.4197 - loss: 1.4902 - val_acc: 0.4776 - val_loss: 1.3534 - learning_rate: 1.0000e-03\n",
      "Epoch 7/40\n",
      "430/430 - 89s - 207ms/step - acc: 0.4336 - loss: 1.4504 - val_acc: 0.4909 - val_loss: 1.3189 - learning_rate: 1.0000e-03\n",
      "Epoch 8/40\n",
      "430/430 - 92s - 215ms/step - acc: 0.4496 - loss: 1.4150 - val_acc: 0.5074 - val_loss: 1.2802 - learning_rate: 1.0000e-03\n",
      "Epoch 9/40\n",
      "430/430 - 95s - 220ms/step - acc: 0.4606 - loss: 1.3991 - val_acc: 0.5078 - val_loss: 1.2871 - learning_rate: 1.0000e-03\n",
      "Epoch 10/40\n",
      "430/430 - 99s - 231ms/step - acc: 0.4687 - loss: 1.3702 - val_acc: 0.5305 - val_loss: 1.2432 - learning_rate: 1.0000e-03\n",
      "Epoch 11/40\n",
      "\n",
      "Epoch 11: ReduceLROnPlateau reducing learning rate to 0.00010000000474974513.\n",
      "430/430 - 107s - 249ms/step - acc: 0.4801 - loss: 1.3531 - val_acc: 0.5267 - val_loss: 1.2289 - learning_rate: 1.0000e-03\n",
      "Epoch 12/40\n",
      "430/430 - 99s - 231ms/step - acc: 0.4946 - loss: 1.3167 - val_acc: 0.5428 - val_loss: 1.2004 - learning_rate: 1.0000e-04\n",
      "Epoch 13/40\n",
      "\n",
      "Epoch 13: ReduceLROnPlateau reducing learning rate to 1.0000000474974514e-05.\n",
      "430/430 - 95s - 221ms/step - acc: 0.5008 - loss: 1.2998 - val_acc: 0.5421 - val_loss: 1.1988 - learning_rate: 1.0000e-04\n",
      "Epoch 14/40\n",
      "430/430 - 99s - 231ms/step - acc: 0.5056 - loss: 1.2921 - val_acc: 0.5436 - val_loss: 1.1951 - learning_rate: 1.0000e-05\n",
      "Epoch 15/40\n",
      "\n",
      "Epoch 15: ReduceLROnPlateau reducing learning rate to 1.0000000656873453e-06.\n",
      "430/430 - 88s - 205ms/step - acc: 0.5041 - loss: 1.2949 - val_acc: 0.5433 - val_loss: 1.1933 - learning_rate: 1.0000e-05\n",
      "Epoch 16/40\n",
      "\n",
      "Epoch 16: ReduceLROnPlateau reducing learning rate to 1.0000001111620805e-07.\n",
      "430/430 - 96s - 224ms/step - acc: 0.5053 - loss: 1.2858 - val_acc: 0.5432 - val_loss: 1.1932 - learning_rate: 1.0000e-06\n",
      "Epoch 17/40\n",
      "\n",
      "Epoch 17: ReduceLROnPlateau reducing learning rate to 1.000000082740371e-08.\n",
      "430/430 - 92s - 215ms/step - acc: 0.5058 - loss: 1.2885 - val_acc: 0.5432 - val_loss: 1.1932 - learning_rate: 1.0000e-07\n",
      "Epoch 18/40\n",
      "\n",
      "Epoch 18: ReduceLROnPlateau reducing learning rate to 1.000000082740371e-09.\n",
      "430/430 - 96s - 222ms/step - acc: 0.5034 - loss: 1.2908 - val_acc: 0.5432 - val_loss: 1.1932 - learning_rate: 1.0000e-08\n",
      "Epoch 19/40\n",
      "\n",
      "Epoch 19: ReduceLROnPlateau reducing learning rate to 1.000000082740371e-10.\n",
      "430/430 - 92s - 213ms/step - acc: 0.5048 - loss: 1.2889 - val_acc: 0.5432 - val_loss: 1.1932 - learning_rate: 1.0000e-09\n",
      "Epoch 20/40\n",
      "\n",
      "Epoch 20: ReduceLROnPlateau reducing learning rate to 1.000000082740371e-11.\n",
      "430/430 - 93s - 217ms/step - acc: 0.5063 - loss: 1.2903 - val_acc: 0.5432 - val_loss: 1.1932 - learning_rate: 1.0000e-10\n",
      "Epoch 21/40\n",
      "\n",
      "Epoch 21: ReduceLROnPlateau reducing learning rate to 1.000000082740371e-12.\n",
      "430/430 - 97s - 226ms/step - acc: 0.5038 - loss: 1.2894 - val_acc: 0.5432 - val_loss: 1.1932 - learning_rate: 1.0000e-11\n",
      "Epoch 22/40\n",
      "\n",
      "Epoch 22: ReduceLROnPlateau reducing learning rate to 1.0000001044244145e-13.\n",
      "430/430 - 95s - 220ms/step - acc: 0.5018 - loss: 1.2926 - val_acc: 0.5432 - val_loss: 1.1932 - learning_rate: 1.0000e-12\n",
      "Epoch 23/40\n",
      "\n",
      "Epoch 23: ReduceLROnPlateau reducing learning rate to 1.0000001179769417e-14.\n",
      "430/430 - 97s - 226ms/step - acc: 0.5025 - loss: 1.2926 - val_acc: 0.5432 - val_loss: 1.1932 - learning_rate: 1.0000e-13\n",
      "Epoch 24/40\n",
      "\n",
      "Epoch 24: ReduceLROnPlateau reducing learning rate to 1.0000001518582595e-15.\n",
      "430/430 - 97s - 226ms/step - acc: 0.5067 - loss: 1.2868 - val_acc: 0.5432 - val_loss: 1.1932 - learning_rate: 1.0000e-14\n",
      "Epoch 25/40\n",
      "\n",
      "Epoch 25: ReduceLROnPlateau reducing learning rate to 1.0000001095066122e-16.\n",
      "430/430 - 87s - 203ms/step - acc: 0.4992 - loss: 1.2931 - val_acc: 0.5432 - val_loss: 1.1932 - learning_rate: 1.0000e-15\n",
      "Epoch 26/40\n",
      "\n",
      "Epoch 26: ReduceLROnPlateau reducing learning rate to 1.0000000830368326e-17.\n",
      "430/430 - 82s - 192ms/step - acc: 0.5048 - loss: 1.2900 - val_acc: 0.5432 - val_loss: 1.1932 - learning_rate: 1.0000e-16\n",
      "Epoch 27/40\n",
      "\n",
      "Epoch 27: ReduceLROnPlateau reducing learning rate to 1.0000000664932204e-18.\n",
      "430/430 - 95s - 221ms/step - acc: 0.5053 - loss: 1.2880 - val_acc: 0.5432 - val_loss: 1.1932 - learning_rate: 1.0000e-17\n",
      "Epoch 28/40\n",
      "\n",
      "Epoch 28: ReduceLROnPlateau reducing learning rate to 1.000000045813705e-19.\n",
      "430/430 - 101s - 235ms/step - acc: 0.5052 - loss: 1.2887 - val_acc: 0.5432 - val_loss: 1.1932 - learning_rate: 1.0000e-18\n",
      "Epoch 29/40\n",
      "\n",
      "Epoch 29: ReduceLROnPlateau reducing learning rate to 1.000000032889008e-20.\n",
      "430/430 - 92s - 215ms/step - acc: 0.5030 - loss: 1.2937 - val_acc: 0.5432 - val_loss: 1.1932 - learning_rate: 1.0000e-19\n",
      "Epoch 30/40\n",
      "\n",
      "Epoch 30: ReduceLROnPlateau reducing learning rate to 1.0000000490448793e-21.\n",
      "430/430 - 87s - 202ms/step - acc: 0.5022 - loss: 1.2906 - val_acc: 0.5432 - val_loss: 1.1932 - learning_rate: 1.0000e-20\n",
      "Epoch 31/40\n",
      "\n",
      "Epoch 31: ReduceLROnPlateau reducing learning rate to 1.0000000692397185e-22.\n",
      "430/430 - 97s - 226ms/step - acc: 0.5032 - loss: 1.2912 - val_acc: 0.5432 - val_loss: 1.1932 - learning_rate: 1.0000e-21\n",
      "Epoch 32/40\n",
      "\n",
      "Epoch 32: ReduceLROnPlateau reducing learning rate to 1.0000000944832675e-23.\n",
      "430/430 - 98s - 228ms/step - acc: 0.5027 - loss: 1.2861 - val_acc: 0.5432 - val_loss: 1.1932 - learning_rate: 1.0000e-22\n",
      "Epoch 33/40\n",
      "\n",
      "Epoch 33: ReduceLROnPlateau reducing learning rate to 1.0000000787060494e-24.\n",
      "430/430 - 98s - 228ms/step - acc: 0.5085 - loss: 1.2890 - val_acc: 0.5432 - val_loss: 1.1932 - learning_rate: 1.0000e-23\n",
      "Epoch 34/40\n",
      "\n",
      "Epoch 34: ReduceLROnPlateau reducing learning rate to 1.0000001181490946e-25.\n",
      "430/430 - 94s - 218ms/step - acc: 0.5026 - loss: 1.2927 - val_acc: 0.5432 - val_loss: 1.1932 - learning_rate: 1.0000e-24\n",
      "Epoch 35/40\n",
      "\n",
      "Epoch 35: ReduceLROnPlateau reducing learning rate to 1.0000001428009978e-26.\n",
      "430/430 - 97s - 226ms/step - acc: 0.5036 - loss: 1.2879 - val_acc: 0.5432 - val_loss: 1.1932 - learning_rate: 1.0000e-25\n",
      "Epoch 36/40\n",
      "\n",
      "Epoch 36: ReduceLROnPlateau reducing learning rate to 1.000000142800998e-27.\n",
      "430/430 - 89s - 208ms/step - acc: 0.5023 - loss: 1.2933 - val_acc: 0.5432 - val_loss: 1.1932 - learning_rate: 1.0000e-26\n",
      "Epoch 37/40\n",
      "\n",
      "Epoch 37: ReduceLROnPlateau reducing learning rate to 1.0000001235416984e-28.\n",
      "430/430 - 93s - 216ms/step - acc: 0.5046 - loss: 1.2909 - val_acc: 0.5432 - val_loss: 1.1932 - learning_rate: 1.0000e-27\n",
      "Epoch 38/40\n",
      "\n",
      "Epoch 38: ReduceLROnPlateau reducing learning rate to 1.0000001235416985e-29.\n",
      "430/430 - 93s - 216ms/step - acc: 0.5039 - loss: 1.2892 - val_acc: 0.5432 - val_loss: 1.1932 - learning_rate: 1.0000e-28\n",
      "Epoch 39/40\n",
      "\n",
      "Epoch 39: ReduceLROnPlateau reducing learning rate to 1.0000001536343539e-30.\n",
      "430/430 - 86s - 201ms/step - acc: 0.5065 - loss: 1.2924 - val_acc: 0.5432 - val_loss: 1.1932 - learning_rate: 1.0000e-29\n",
      "Epoch 40/40\n",
      "\n",
      "Epoch 40: ReduceLROnPlateau reducing learning rate to 1.000000191250173e-31.\n",
      "430/430 - 93s - 215ms/step - acc: 0.5039 - loss: 1.2927 - val_acc: 0.5432 - val_loss: 1.1932 - learning_rate: 1.0000e-30\n"
     ]
    }
   ],
   "source": [
    "batch_size = 64\n",
    "epochs = 40\n",
    "\n",
    "history = model.fit(\n",
    "    datagen.flow(X_train, Y_train, batch_size=batch_size),\n",
    "    validation_data=(X_test, Y_test),\n",
    "    epochs=epochs,\n",
    "    shuffle=True,\n",
    "    verbose=2,\n",
    "    callbacks=[lr_reduce]\n",
    ")\n"
   ]
  },
  {
   "cell_type": "code",
   "execution_count": 17,
   "id": "f3abf0be",
   "metadata": {},
   "outputs": [
    {
     "name": "stdout",
     "output_type": "stream",
     "text": [
      "\u001b[1m225/225\u001b[0m \u001b[32m━━━━━━━━━━━━━━━━━━━━\u001b[0m\u001b[37m\u001b[0m \u001b[1m6s\u001b[0m 25ms/step - accuracy: 0.5112 - loss: 1.2360\n",
      "Test Accuracy: 0.58\n"
     ]
    }
   ],
   "source": [
    "test_loss, test_acc = model.evaluate(X_test, y_test)\n",
    "print(f\"Test Accuracy: {test_acc:.2f}\")\n"
   ]
  },
  {
   "cell_type": "code",
   "execution_count": 18,
   "id": "5d7343cf",
   "metadata": {},
   "outputs": [
    {
     "data": {
      "image/png": "[encoded data removed]",
      "text/plain": [
       "<Figure size 1200x400 with 2 Axes>"
      ]
     },
     "metadata": {},
     "output_type": "display_data"
    }
   ],
   "source": [
    "plt.figure(figsize=(12, 4))\n",
    "\n",
    "plt.subplot(1, 2, 1)\n",
    "plt.plot(history.history['accuracy'], label='Train Acc')\n",
    "plt.plot(history.history['val_accuracy'], label='Val Acc')\n",
    "plt.legend()\n",
    "plt.title('Accuracy')\n",
    "\n",
    "plt.subplot(1, 2, 2)\n",
    "plt.plot(history.history['loss'], label='Train Loss')\n",
    "plt.plot(history.history['val_loss'], label='Val Loss')\n",
    "plt.legend()\n",
    "plt.title('Loss')\n",
    "\n",
    "plt.tight_layout()\n",
    "plt.show()\n"
   ]
  },
  {
   "cell_type": "code",
   "execution_count": 26,
   "id": "d45edb38",
   "metadata": {},
   "outputs": [
    {
     "name": "stderr",
     "output_type": "stream",
     "text": [
      "WARNING:absl:You are saving your model as an HDF5 file via `model.save()` or `keras.saving.save_model(model)`. This file format is considered legacy. We recommend using instead the native Keras format, e.g. `model.save('my_model.keras')` or `keras.saving.save_model(model, 'my_model.keras')`. \n"
     ]
    }
   ],
   "source": [
    "model.save('emotion_detection_model.h5')\n"
   ]
  },
  {
   "cell_type": "code",
   "execution_count": null,
   "id": "a75ba733",
   "metadata": {},
   "outputs": [],
   "source": []
  }
 ],
 "metadata": {
  "kernelspec": {
   "display_name": "venv",
   "language": "python",
   "name": "python3"
  },
  "language_info": {
   "codemirror_mode": {
    "name": "ipython",
    "version": 3
   },
   "file_extension": ".py",
   "mimetype": "text/x-python",
   "name": "python",
   "nbconvert_exporter": "python",
   "pygments_lexer": "ipython3",
   "version": "3.11.3"
  }
 },
 "nbformat": 4,
 "nbformat_minor": 5
}
