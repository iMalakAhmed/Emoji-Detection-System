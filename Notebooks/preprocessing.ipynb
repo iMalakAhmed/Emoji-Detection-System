{
 "cells": [
  {
   "cell_type": "code",
   "execution_count": 13,
   "metadata": {},
   "outputs": [],
   "source": [
    "import os\n",
    "import cv2\n",
    "import numpy as np\n",
    "from sklearn.model_selection import train_test_split\n",
    "#from tensorflow.keras.utils import to_categorical"
   ]
  },
  {
   "cell_type": "code",
   "execution_count": 6,
   "metadata": {},
   "outputs": [
    {
     "name": "stdout",
     "output_type": "stream",
     "text": [
      "Requirement already satisfied: keras in c:\\users\\asus\\appdata\\local\\programs\\python\\python313\\lib\\site-packages (3.9.2)\n",
      "Requirement already satisfied: absl-py in c:\\users\\asus\\appdata\\local\\programs\\python\\python313\\lib\\site-packages (from keras) (2.2.2)\n",
      "Requirement already satisfied: numpy in c:\\users\\asus\\appdata\\local\\programs\\python\\python313\\lib\\site-packages (from keras) (2.2.1)\n",
      "Requirement already satisfied: rich in c:\\users\\asus\\appdata\\local\\programs\\python\\python313\\lib\\site-packages (from keras) (14.0.0)\n",
      "Requirement already satisfied: namex in c:\\users\\asus\\appdata\\local\\programs\\python\\python313\\lib\\site-packages (from keras) (0.0.9)\n",
      "Requirement already satisfied: h5py in c:\\users\\asus\\appdata\\local\\programs\\python\\python313\\lib\\site-packages (from keras) (3.13.0)\n",
      "Requirement already satisfied: optree in c:\\users\\asus\\appdata\\local\\programs\\python\\python313\\lib\\site-packages (from keras) (0.15.0)\n",
      "Requirement already satisfied: ml-dtypes in c:\\users\\asus\\appdata\\local\\programs\\python\\python313\\lib\\site-packages (from keras) (0.5.1)\n",
      "Requirement already satisfied: packaging in c:\\users\\asus\\appdata\\local\\programs\\python\\python313\\lib\\site-packages (from keras) (24.1)\n",
      "Requirement already satisfied: typing-extensions>=4.5.0 in c:\\users\\asus\\appdata\\local\\programs\\python\\python313\\lib\\site-packages (from optree->keras) (4.12.2)\n",
      "Requirement already satisfied: markdown-it-py>=2.2.0 in c:\\users\\asus\\appdata\\local\\programs\\python\\python313\\lib\\site-packages (from rich->keras) (3.0.0)\n",
      "Requirement already satisfied: pygments<3.0.0,>=2.13.0 in c:\\users\\asus\\appdata\\roaming\\python\\python313\\site-packages (from rich->keras) (2.18.0)\n",
      "Requirement already satisfied: mdurl~=0.1 in c:\\users\\asus\\appdata\\local\\programs\\python\\python313\\lib\\site-packages (from markdown-it-py>=2.2.0->rich->keras) (0.1.2)\n",
      "Note: you may need to restart the kernel to use updated packages.\n"
     ]
    },
    {
     "name": "stderr",
     "output_type": "stream",
     "text": [
      "\n",
      "[notice] A new release of pip is available: 24.3.1 -> 25.1.1\n",
      "[notice] To update, run: python.exe -m pip install --upgrade pip\n"
     ]
    }
   ],
   "source": [
    "pip install keras"
   ]
  },
  {
   "cell_type": "code",
   "execution_count": 11,
   "metadata": {},
   "outputs": [
    {
     "name": "stdout",
     "output_type": "stream",
     "text": [
      "Note: you may need to restart the kernel to use updated packages.\n"
     ]
    },
    {
     "name": "stderr",
     "output_type": "stream",
     "text": [
      "ERROR: Could not find a version that satisfies the requirement tensorflow (from versions: none)\n",
      "\n",
      "[notice] A new release of pip is available: 24.3.1 -> 25.1.1\n",
      "[notice] To update, run: python.exe -m pip install --upgrade pip\n",
      "ERROR: No matching distribution found for tensorflow\n"
     ]
    }
   ],
   "source": [
    "pip install tensorflow\n"
   ]
  },
  {
   "cell_type": "code",
   "execution_count": 26,
   "metadata": {},
   "outputs": [],
   "source": [
    "BASE_DIR = os.path.abspath(os.path.join(os.getcwd(), os.pardir))\n",
    "\n",
    "# — FER-2013_sampled is right under the project root\n",
    "SAMPLE_DIR = os.path.join(BASE_DIR, \"FER-2013_sampled\")\n",
    "\n",
    "# — point to the two splits\n",
    "TRAIN_DIR = os.path.join(SAMPLE_DIR, r'C:\\Users\\ASUS\\Desktop\\Digital\\Emoji-Detection-System\\FER-2013_sampled\\FER-2013_sampled\\train_balanced_7000')\n",
    "TEST_DIR  = os.path.join(SAMPLE_DIR, r'C:\\Users\\ASUS\\Desktop\\Digital\\Emoji-Detection-System\\FER-2013_sampled\\FER-2013_sampled\\test_balanced_3000')\n",
    "\n",
    "# sanity check\n",
    "assert os.path.isdir(TRAIN_DIR), f\"Train folder not found: {TRAIN_DIR}\"\n",
    "assert os.path.isdir(TEST_DIR),  f\"Test folder not found:  {TEST_DIR}\""
   ]
  },
  {
   "cell_type": "code",
   "execution_count": 19,
   "metadata": {},
   "outputs": [],
   "source": [
    "EMOTIONS = ['angry','disgust','fear','happy','sad','surprise','neutral']\n",
    "IMG_SIZE  = (64, 64)"
   ]
  },
  {
   "cell_type": "code",
   "execution_count": 16,
   "metadata": {},
   "outputs": [],
   "source": [
    "images, labels = [], []\n",
    "face_cascade = cv2.CascadeClassifier(cv2.data.haarcascades + 'haarcascade_frontalface_default.xml')\n",
    "for idx, emo in enumerate(EMOTIONS):\n",
    "    emo_folder = os.path.join(TRAIN_DIR, emo)\n",
    "    for fname in os.listdir(emo_folder):\n",
    "        img_path = os.path.join(emo_folder, fname)\n",
    "        img_bgr  = cv2.imread(img_path)\n",
    "        if img_bgr is None:\n",
    "            continue\n",
    "\n",
    "        # face‐crop (if found), else full image\n",
    "        gray   = cv2.cvtColor(img_bgr, cv2.COLOR_BGR2GRAY)\n",
    "        faces  = face_cascade.detectMultiScale(gray, 1.3, 5)\n",
    "        if len(faces) > 0:\n",
    "            x,y,w,h = faces[0]\n",
    "            face = img_bgr[y:y+h, x:x+w]\n",
    "        else:\n",
    "            face = img_bgr\n",
    "\n",
    "        # bilateral filter → grayscale → resize → normalize\n",
    "        filt   = cv2.bilateralFilter(face, d=9, sigmaColor=75, sigmaSpace=75)#filtering\n",
    "        gray_f = cv2.cvtColor(filt, cv2.COLOR_BGR2GRAY)# turn Grayscale\n",
    "        small  = cv2.resize(gray_f, IMG_SIZE).astype('float32') / 255.0#reize\n",
    "\n",
    "        images.append(small)\n",
    "        labels.append(idx)\n",
    "\n",
    "images = np.expand_dims(np.array(images), -1)\n",
    "labels = np.array(labels, dtype=int)  "
   ]
  },
  {
   "cell_type": "code",
   "execution_count": 28,
   "metadata": {},
   "outputs": [],
   "source": [
    "labels = np.eye(len(EMOTIONS))[labels]#one hot enocde 0 thru 7 "
   ]
  },
  {
   "cell_type": "code",
   "execution_count": 31,
   "metadata": {},
   "outputs": [],
   "source": [
    "mask    = np.zeros(face.shape[:2], np.uint8)\n",
    "bgModel = np.zeros((1,65), np.float64)\n",
    "fgModel = np.zeros((1,65), np.float64)\n",
    "rect    = (5,5, face.shape[1]-10, face.shape[0]-10)\n",
    "cv2.grabCut(face, mask, rect, bgModel, fgModel, 5, cv2.GC_INIT_WITH_RECT)\n",
    "mask2    = np.where((mask==2)|(mask==0), 0, 1).astype('uint8')\n",
    "face_fg  = face * mask2[:, :, np.newaxis]\n",
    "#segmentation "
   ]
  },
  {
   "cell_type": "code",
   "execution_count": 29,
   "metadata": {},
   "outputs": [
    {
     "name": "stdout",
     "output_type": "stream",
     "text": [
      "Train: (4505, 64, 64, 1) (4505, 7)\n",
      "Val:   (965, 64, 64, 1) (965, 7)\n",
      "Test:  (966, 64, 64, 1) (966, 7)\n"
     ]
    }
   ],
   "source": [
    "X_train, X_temp, y_train, y_temp = train_test_split(\n",
    "    images, labels, test_size=0.3,\n",
    "    random_state=42, stratify=labels.argmax(axis=1)\n",
    ")\n",
    "X_val, X_test, y_val, y_test = train_test_split(\n",
    "    X_temp, y_temp, test_size=0.5,\n",
    "    random_state=42, stratify=y_temp.argmax(axis=1)\n",
    ")\n",
    "\n",
    "print(\"Train:\", X_train.shape, y_train.shape)\n",
    "print(\"Val:  \", X_val.shape,   y_val.shape)\n",
    "print(\"Test: \", X_test.shape,  y_test.shape)"
   ]
  }
 ],
 "metadata": {
  "kernelspec": {
   "display_name": "Python 3",
   "language": "python",
   "name": "python3"
  },
  "language_info": {
   "codemirror_mode": {
    "name": "ipython",
    "version": 3
   },
   "file_extension": ".py",
   "mimetype": "text/x-python",
   "name": "python",
   "nbconvert_exporter": "python",
   "pygments_lexer": "ipython3",
   "version": "3.10.0"
  }
 },
 "nbformat": 4,
 "nbformat_minor": 2
}
